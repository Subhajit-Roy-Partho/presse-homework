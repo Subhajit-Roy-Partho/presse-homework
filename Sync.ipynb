{
 "cells": [
  {
   "cell_type": "code",
   "execution_count": 1,
   "id": "bd76c30b",
   "metadata": {},
   "outputs": [
    {
     "name": "stdout",
     "output_type": "stream",
     "text": [
      "Warning: Permanently added the ED25519 host key for IP address '140.82.112.4' to the list of known hosts.\n",
      "remote: Enumerating objects: 6, done.\u001b[K\n",
      "remote: Counting objects: 100% (6/6), done.\u001b[K\n",
      "remote: Compressing objects: 100% (4/4), done.\u001b[K\n",
      "remote: Total 6 (delta 2), reused 6 (delta 2), pack-reused 0\u001b[K\n",
      "Unpacking objects: 100% (6/6), 20.12 KiB | 4.02 MiB/s, done.\n",
      "From github.com:Subhajit-Roy-Partho/presse-homework\n",
      "   1d23f45..e8f99f5  main       -> origin/main\n",
      "Updating 1d23f45..e8f99f5\n",
      "Fast-forward\n",
      " a3/.README.md.swp | Bin \u001b[31m16384\u001b[m -> \u001b[32m0\u001b[m bytes\n",
      " a4/README.md      |  19 \u001b[32m+++++++++++++++++++\u001b[m\n",
      " a4/all.pdf        | Bin \u001b[31m0\u001b[m -> \u001b[32m24272\u001b[m bytes\n",
      " 3 files changed, 19 insertions(+)\n",
      " delete mode 100644 a3/.README.md.swp\n",
      " create mode 100644 a4/README.md\n",
      " create mode 100644 a4/all.pdf\n",
      "[main 9a5cea1] update\n",
      " 4 files changed, 39 insertions(+), 58 deletions(-)\n",
      " create mode 100644 .ipynb_checkpoints/Untitled-checkpoint.ipynb\n",
      " create mode 100644 Untitled.ipynb\n",
      "Enumerating objects: 13, done.\n",
      "Counting objects: 100% (13/13), done.\n",
      "Delta compression using up to 48 threads\n",
      "Compressing objects: 100% (8/8), done.\n",
      "Writing objects: 100% (8/8), 1.21 KiB | 1.21 MiB/s, done.\n",
      "Total 8 (delta 4), reused 0 (delta 0)\n",
      "remote: Resolving deltas: 100% (4/4), completed with 4 local objects.\u001b[K\n",
      "To github.com:Subhajit-Roy-Partho/presse-homework.git\n",
      "   e8f99f5..9a5cea1  main -> main\n"
     ]
    }
   ],
   "source": [
    "!git pull; git add .;git commit -m \"update\";git push"
   ]
  }
 ],
 "metadata": {
  "kernelspec": {
   "display_name": "Python 3",
   "language": "python",
   "name": "python3"
  },
  "language_info": {
   "codemirror_mode": {
    "name": "ipython",
    "version": 3
   },
   "file_extension": ".py",
   "mimetype": "text/x-python",
   "name": "python",
   "nbconvert_exporter": "python",
   "pygments_lexer": "ipython3",
   "version": "3.8.10"
  }
 },
 "nbformat": 4,
 "nbformat_minor": 5
}
