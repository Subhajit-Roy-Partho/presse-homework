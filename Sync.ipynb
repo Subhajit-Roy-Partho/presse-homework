{
 "cells": [
  {
   "cell_type": "code",
   "execution_count": 1,
   "id": "bd76c30b",
   "metadata": {},
   "outputs": [
    {
     "name": "stdout",
     "output_type": "stream",
     "text": [
      "Already up to date.\n",
      "[main 333464a] update\n",
      " 7 files changed, 559 insertions(+), 10 deletions(-)\n",
      " create mode 100644 a8/1.png\n",
      " create mode 100644 a8/25.png\n",
      " create mode 100644 a8/5.png\n",
      " create mode 100644 a8/GaussianP.ipynb\n",
      " create mode 100644 a8/pol2.png\n",
      " create mode 100644 a8/sin.png\n",
      "Enumerating objects: 12, done.\n",
      "Counting objects: 100% (12/12), done.\n",
      "Delta compression using up to 48 threads\n",
      "Compressing objects: 100% (10/10), done.\n",
      "Writing objects: 100% (10/10), 363.41 KiB | 7.13 MiB/s, done.\n",
      "Total 10 (delta 2), reused 0 (delta 0)\n",
      "remote: Resolving deltas: 100% (2/2), completed with 2 local objects.\u001b[K\n",
      "To github.com:Subhajit-Roy-Partho/presse-homework.git\n",
      "   124a2f7..333464a  main -> main\n"
     ]
    }
   ],
   "source": [
    "!git pull; git add .;git commit -m \"update\";git push"
   ]
  }
 ],
 "metadata": {
  "kernelspec": {
   "display_name": "Python 3",
   "language": "python",
   "name": "python3"
  },
  "language_info": {
   "codemirror_mode": {
    "name": "ipython",
    "version": 3
   },
   "file_extension": ".py",
   "mimetype": "text/x-python",
   "name": "python",
   "nbconvert_exporter": "python",
   "pygments_lexer": "ipython3",
   "version": "3.8.10"
  }
 },
 "nbformat": 4,
 "nbformat_minor": 5
}
