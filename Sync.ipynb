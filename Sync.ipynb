{
 "cells": [
  {
   "cell_type": "code",
   "execution_count": 1,
   "id": "bd76c30b",
   "metadata": {},
   "outputs": [
    {
     "name": "stdout",
     "output_type": "stream",
     "text": [
      "Already up to date.\n",
      "[main db3a0c0] update\n",
      " 10 files changed, 1267 insertions(+)\n",
      " create mode 100644 a7/Assignment 7.ipynb\n",
      " create mode 100644 a7/Gibbs Sampler 2.ipynb\n",
      " create mode 100644 a7/Gibbs Sampler.ipynb\n",
      " create mode 100644 a7/Random Walk.ipynb\n",
      " create mode 100644 a7/l01arw.png\n",
      " create mode 100644 a7/l01nrw.png\n",
      " create mode 100644 a7/l100arw.png\n",
      " create mode 100644 a7/l100nrw.png\n",
      " create mode 100644 a7/l1arw.png\n",
      " create mode 100644 a7/l1nrw.png\n",
      "Enumerating objects: 14, done.\n",
      "Counting objects: 100% (14/14), done.\n",
      "Delta compression using up to 48 threads\n",
      "Compressing objects: 100% (13/13), done.\n",
      "Writing objects: 100% (13/13), 323.35 KiB | 4.97 MiB/s, done.\n",
      "Total 13 (delta 1), reused 0 (delta 0)\n",
      "remote: Resolving deltas: 100% (1/1), completed with 1 local object.\u001b[K\n",
      "To github.com:Subhajit-Roy-Partho/presse-homework.git\n",
      "   13b421b..db3a0c0  main -> main\n"
     ]
    }
   ],
   "source": [
    "!git pull; git add .;git commit -m \"update\";git push"
   ]
  }
 ],
 "metadata": {
  "kernelspec": {
   "display_name": "Python 3",
   "language": "python",
   "name": "python3"
  },
  "language_info": {
   "codemirror_mode": {
    "name": "ipython",
    "version": 3
   },
   "file_extension": ".py",
   "mimetype": "text/x-python",
   "name": "python",
   "nbconvert_exporter": "python",
   "pygments_lexer": "ipython3",
   "version": "3.8.10"
  }
 },
 "nbformat": 4,
 "nbformat_minor": 5
}
