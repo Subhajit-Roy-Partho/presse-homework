{
 "cells": [
  {
   "cell_type": "code",
   "execution_count": 1,
   "id": "0e4bb102",
   "metadata": {},
   "outputs": [],
   "source": [
    "import numpy as np\n",
    "import matplotlib.pyplot as plt\n",
    "from tqdm import tqdm\n",
    "\n",
    "from time import time;\n",
    "np.random.seed(int(time()));\n",
    "\n",
    "populations = np.array((0,0,1,1,0,0),dtype=int); # populations = [nA,nB,gA,gB,gA*,gB*]\n",
    "rates = np.array((1,10,10,1),dtype=float) #rates = [kd,kp,]\n"
   ]
  },
  {
   "cell_type": "code",
   "execution_count": 3,
   "id": "94d33f3c",
   "metadata": {},
   "outputs": [
    {
     "name": "stdout",
     "output_type": "stream",
     "text": [
      "[main e1badd1] Assignment 3\n",
      " 2 files changed, 122 insertions(+)\n",
      " create mode 100644 a3/.ipynb_checkpoints/genticSwitch-checkpoint.ipynb\n",
      " create mode 100644 a3/genticSwitch.ipynb\n",
      "Warning: Permanently added the ED25519 host key for IP address '140.82.113.4' to the list of known hosts.\n",
      "Enumerating objects: 8, done.\n",
      "Counting objects: 100% (8/8), done.\n",
      "Delta compression using up to 48 threads\n",
      "Compressing objects: 100% (6/6), done.\n",
      "Writing objects: 100% (6/6), 1.61 KiB | 1.61 MiB/s, done.\n",
      "Total 6 (delta 2), reused 0 (delta 0)\n",
      "remote: Resolving deltas: 100% (2/2), completed with 2 local objects.\u001b[K\n",
      "To github.com:Subhajit-Roy-Partho/presse-homework.git\n",
      "   ad28c04..e1badd1  main -> main\n"
     ]
    }
   ],
   "source": [
    "!git add .; git commit -m \"Assignment 3\"; git push"
   ]
  }
 ],
 "metadata": {
  "kernelspec": {
   "display_name": "Python 3",
   "language": "python",
   "name": "python3"
  },
  "language_info": {
   "codemirror_mode": {
    "name": "ipython",
    "version": 3
   },
   "file_extension": ".py",
   "mimetype": "text/x-python",
   "name": "python",
   "nbconvert_exporter": "python",
   "pygments_lexer": "ipython3",
   "version": "3.8.10"
  }
 },
 "nbformat": 4,
 "nbformat_minor": 5
}
