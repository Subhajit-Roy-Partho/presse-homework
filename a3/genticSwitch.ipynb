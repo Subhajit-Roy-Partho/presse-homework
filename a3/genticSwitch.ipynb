{
 "cells": [
  {
   "cell_type": "code",
   "execution_count": 1,
   "id": "0e4bb102",
   "metadata": {},
   "outputs": [],
   "source": [
    "import numpy as np\n",
    "import matplotlib.pyplot as plt\n",
    "from tqdm import tqdm\n",
    "\n",
    "from time import time;\n",
    "np.random.seed(int(time()));\n",
    "\n",
    "populations = np.array((0,0,1,1,0,0),dtype=int); # populations = [nA,nB,gA,gB,gA*,gB*]\n",
    "rates = np.array((1,10),dtype=float) #rates = [kd]"
   ]
  },
  {
   "cell_type": "code",
   "execution_count": 1,
   "id": "fa7bd189",
   "metadata": {},
   "outputs": [
    {
     "name": "stdout",
     "output_type": "stream",
     "text": [
      "\n",
      "*** Please tell me who you are.\n",
      "\n",
      "Run\n",
      "\n",
      "  git config --global user.email \"you@example.com\"\n",
      "  git config --global user.name \"Your Name\"\n",
      "\n",
      "to set your account's default identity.\n",
      "Omit --global to set the identity only in this repository.\n",
      "\n",
      "fatal: empty ident name (for <sroy85@mathds.la.asu.edu>) not allowed\n",
      "Warning: Permanently added the ED25519 host key for IP address '140.82.113.3' to the list of known hosts.\n",
      "Everything up-to-date\n"
     ]
    }
   ],
   "source": [
    "!git add .; git commit -m \"Assignment 3\"; git push"
   ]
  },
  {
   "cell_type": "code",
   "execution_count": null,
   "id": "f148453e",
   "metadata": {},
   "outputs": [],
   "source": [
    "!git config --global user.name \"Subhajit-Roy-Partho\"\n",
    "!git config --global user"
   ]
  }
 ],
 "metadata": {
  "kernelspec": {
   "display_name": "Python 3",
   "language": "python",
   "name": "python3"
  },
  "language_info": {
   "codemirror_mode": {
    "name": "ipython",
    "version": 3
   },
   "file_extension": ".py",
   "mimetype": "text/x-python",
   "name": "python",
   "nbconvert_exporter": "python",
   "pygments_lexer": "ipython3",
   "version": "3.8.10"
  }
 },
 "nbformat": 4,
 "nbformat_minor": 5
}
