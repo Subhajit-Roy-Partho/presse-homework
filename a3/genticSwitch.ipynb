{
 "cells": [
  {
   "cell_type": "code",
   "execution_count": 4,
   "id": "0e4bb102",
   "metadata": {},
   "outputs": [],
   "source": [
    "import numpy as np\n",
    "import matplotlib.pyplot as plt\n",
    "from tqdm import tqdm\n",
    "\n",
    "from time import time;\n",
    "np.random.seed(int(time()));\n",
    "\n",
    "populations = np.array((0,0,1,1,0,0),dtype=int); # populations = [nA,nB,gA,gB,gA*,gB*]\n",
    "rates = np.array((1,10,10,1),dtype=float) #rates = [kd,kp,kf,kr]\n",
    "\n",
    "propensities = np.zeros((8),dtype=float); #Store the propensities\n",
    "\n",
    "def prop(populations,propensities):\n",
    "    propensities[0]=populations[0]*rates[0]; #A->0 (kd)\n",
    "    propensities[1]=populations[2]*rates[1]; #gA->gA+A (kp)\n",
    "    propensities[2]=populations[2]*populations[1]*rates[2]; #gA+B->gA* (kf)\n",
    "    propensities[3]=populations[4]*rates[3]; #gA*->gA+B (kr)\n",
    "    propensities[4]=populations[1]*rates[0]; #B->0 (kd)\n",
    "    propensities[5]=populations[3]*rates[1]; #gB -> gB +B(kp)\n",
    "    propensities[6]=populations[3]*populations[0]*rates[2] #gB+A->gA* (kf)\n",
    "    propensities[7]=populations[4]*rates[3]; #gA*->gA+B (kr)\n",
    "    return propensities\n",
    "# def reaction(populations,choices):\n",
    "    "
   ]
  },
  {
   "cell_type": "code",
   "execution_count": 17,
   "id": "3c161e72",
   "metadata": {},
   "outputs": [
    {
     "name": "stderr",
     "output_type": "stream",
     "text": [
      "  0%|          | 0/100 [00:00<?, ?it/s]\n"
     ]
    }
   ],
   "source": [
    "from time import sleep;\n",
    "pbar = tqdm(total=100);\n",
    "while i<5:\n",
    "    i+=1\n",
    "    sleep(0.1)\n",
    "    pbar.update(10)\n",
    "pbar.close()"
   ]
  },
  {
   "cell_type": "code",
   "execution_count": 10,
   "id": "94d33f3c",
   "metadata": {},
   "outputs": [
    {
     "name": "stdout",
     "output_type": "stream",
     "text": [
      "[main 407259e] Assignment 3\n",
      " 1 file changed, 15 insertions(+), 3 deletions(-)\n",
      "Warning: Permanently added the ED25519 host key for IP address '140.82.114.3' to the list of known hosts.\n",
      "Enumerating objects: 7, done.\n",
      "Counting objects: 100% (7/7), done.\n",
      "Delta compression using up to 48 threads\n",
      "Compressing objects: 100% (4/4), done.\n",
      "Writing objects: 100% (4/4), 413 bytes | 413.00 KiB/s, done.\n",
      "Total 4 (delta 3), reused 0 (delta 0)\n",
      "remote: Resolving deltas: 100% (3/3), completed with 3 local objects.\u001b[K\n",
      "To github.com:Subhajit-Roy-Partho/presse-homework.git\n",
      "   33c0724..407259e  main -> main\n"
     ]
    }
   ],
   "source": [
    "!git add .; git commit -m \"Assignment 3\"; git push"
   ]
  },
  {
   "cell_type": "code",
   "execution_count": null,
   "id": "66caf29c",
   "metadata": {},
   "outputs": [],
   "source": []
  }
 ],
 "metadata": {
  "kernelspec": {
   "display_name": "Python 3",
   "language": "python",
   "name": "python3"
  },
  "language_info": {
   "codemirror_mode": {
    "name": "ipython",
    "version": 3
   },
   "file_extension": ".py",
   "mimetype": "text/x-python",
   "name": "python",
   "nbconvert_exporter": "python",
   "pygments_lexer": "ipython3",
   "version": "3.8.10"
  }
 },
 "nbformat": 4,
 "nbformat_minor": 5
}
