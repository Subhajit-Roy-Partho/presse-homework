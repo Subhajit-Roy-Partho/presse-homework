{
 "cells": [
  {
   "cell_type": "code",
   "execution_count": 24,
   "id": "470ff86e",
   "metadata": {},
   "outputs": [
    {
     "name": "stdout",
     "output_type": "stream",
     "text": [
      "Estimated mu1: -2.04\n",
      "Estimated mu2: 1.91\n",
      "Estimated w1: 0.51\n"
     ]
    }
   ],
   "source": [
    "import numpy as np\n",
    "from scipy.stats import norm\n",
    "from time import time\n",
    "\n",
    "# Generate data from the sum of two Gaussians\n",
    "np.random.seed(int(time()))\n",
    "\n",
    "mu1_true, mu2_true = -2, 2\n",
    "sigma_true = 1\n",
    "n_samples = 100\n",
    "X = np.concatenate([np.random.normal(mu1_true, sigma_true, size=n_samples),\n",
    "                    np.random.normal(mu2_true, sigma_true, size=n_samples)])\n",
    "\n",
    "# Initialize the means and mixing proportions randomly\n",
    "mu1 = np.random.randn()\n",
    "mu2 = np.random.randn()\n",
    "w1 = np.random.rand()\n",
    "\n",
    "# Define the Gaussian probability density function\n",
    "def gaussian(x, mu, sigma):\n",
    "    return norm(mu, sigma).pdf(x)\n",
    "\n",
    "# E-step\n",
    "def e_step(X, mu1, mu2, w1):\n",
    "    w2 = 1 - w1\n",
    "    likelihood1 = gaussian(X, mu1, sigma_true)\n",
    "    likelihood2 = gaussian(X, mu2, sigma_true)\n",
    "    weights1 = (w1 * likelihood1) / (w1 * likelihood1 + w2 * likelihood2)\n",
    "    weights2 = 1 - weights1\n",
    "    return weights1, weights2\n",
    "\n",
    "# M-step\n",
    "def m_step(X, weights1, weights2):\n",
    "    mu1 = np.sum(weights1 * X) / np.sum(weights1)\n",
    "    mu2 = np.sum(weights2 * X) / np.sum(weights2)\n",
    "    w1 = np.mean(weights1)\n",
    "    return mu1, mu2, w1\n",
    "\n",
    "# Run the EM algorithm\n",
    "n_iterations = 100\n",
    "tolerance = 1e-6\n",
    "\n",
    "for i in range(n_iterations):\n",
    "    # E-step\n",
    "    weights1, weights2 = e_step(X, mu1, mu2, w1)\n",
    "\n",
    "    # M-step\n",
    "    mu1_new, mu2_new, w1_new = m_step(X, weights1, weights2)\n",
    "\n",
    "    # Check for convergence\n",
    "    if np.abs(mu1_new - mu1) < tolerance and np.abs(mu2_new - mu2) < tolerance and np.abs(w1_new - w1) < tolerance:\n",
    "        break\n",
    "\n",
    "    # Update the means and mixing proportion\n",
    "    mu1, mu2, w1 = mu1_new, mu2_new, w1_new\n",
    "\n",
    "print(f\"Estimated mu1: {mu1:.2f}\")\n",
    "print(f\"Estimated mu2: {mu2:.2f}\")\n",
    "print(f\"Estimated w1: {w1:.2f}\")"
   ]
  },
  {
   "cell_type": "code",
   "execution_count": 17,
   "id": "041f2bad",
   "metadata": {
    "scrolled": true
   },
   "outputs": [
    {
     "data": {
      "image/png": "[encoded data removed]",
      "text/plain": [
       "<Figure size 432x288 with 1 Axes>"
      ]
     },
     "metadata": {
      "needs_background": "light"
     },
     "output_type": "display_data"
    }
   ],
   "source": [
    "import numpy as np\n",
    "from scipy.stats import norm\n",
    "\n",
    "def em_gaussian_mixture(data, num_components, num_iterations):\n",
    "    # Initialize parameters\n",
    "    weights = np.ones(num_components) / num_components\n",
    "    means = np.random.choice(data, num_components)\n",
    "    var = np.var(data)\n",
    "    \n",
    "    for iteration in range(num_iterations):\n",
    "        # Expectation step\n",
    "        likelihoods = np.zeros((len(data), num_components))\n",
    "        for i in range(num_components):\n",
    "            likelihoods[:, i] = norm.pdf(data, means[i], np.sqrt(var))\n",
    "        posteriors = likelihoods * weights\n",
    "        posteriors /= np.sum(posteriors, axis=1, keepdims=True)\n",
    "        \n",
    "        # Maximization step\n",
    "        weights = np.mean(posteriors, axis=0)\n",
    "        means = np.sum(posteriors * data[:, np.newaxis], axis=0) / np.sum(posteriors, axis=0)\n",
    "        \n",
    "    return weights, means\n",
    "\n",
    "import matplotlib.pyplot as plt\n",
    "\n",
    "# Generate data from the sum of two Gaussians\n",
    "np.random.seed(0)\n",
    "data = np.concatenate([np.random.normal(-2, 1, 1000), np.random.normal(2, 1, 1000)])\n",
    "\n",
    "# Run EM algorithm\n",
    "weights, means = em_gaussian_mixture(data, 2, 100)\n",
    "\n",
    "# Plot data and estimated Gaussians\n",
    "plt.hist(data, bins=50, density=True)\n",
    "x = np.linspace(-6, 6, 100)\n",
    "y1 = weights[0] * norm.pdf(x, means[0], np.sqrt(np.var(data)))\n",
    "y2 = weights[1] * norm.pdf(x, means[1], np.sqrt(np.var(data)))\n",
    "plt.plot(x, y1, label='Gaussian 1')\n",
    "plt.plot(x, y2, label='Gaussian 2')\n",
    "plt.legend()\n",
    "plt.show()"
   ]
  },
  {
   "cell_type": "code",
   "execution_count": null,
   "id": "f5d3cbb0",
   "metadata": {},
   "outputs": [],
   "source": [
    "git pull; git add .; git commit -m \"update\"; git push"
   ]
  }
 ],
 "metadata": {
  "kernelspec": {
   "display_name": "Python 3",
   "language": "python",
   "name": "python3"
  },
  "language_info": {
   "codemirror_mode": {
    "name": "ipython",
    "version": 3
   },
   "file_extension": ".py",
   "mimetype": "text/x-python",
   "name": "python",
   "nbconvert_exporter": "python",
   "pygments_lexer": "ipython3",
   "version": "3.8.10"
  }
 },
 "nbformat": 4,
 "nbformat_minor": 5
}
