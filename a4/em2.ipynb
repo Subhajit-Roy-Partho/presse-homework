{
 "cells": [
  {
   "cell_type": "code",
   "execution_count": 57,
   "id": "9cee64ba",
   "metadata": {},
   "outputs": [
    {
     "name": "stderr",
     "output_type": "stream",
     "text": [
      "100%|██████████| 100/100 [00:00<00:00, 2907.93it/s]"
     ]
    },
    {
     "name": "stdout",
     "output_type": "stream",
     "text": [
      "True Parameters: pi_1 = 0.7, mu_1 = 1.0, mu_2 = 4.0, v = 0.5\n",
      "Estimated Parameters: pi_1 = 0.7036487636639586, mu_1 = 1.0110600112242416, mu_2 = 4.02350646764783, v = 0.5017586475461915\n",
      "%Error in estimation : pi_1 =0.5212519519940871 %, mu_1 = 1.1060011224241606 %, mu_2 = 0.5876616911957511 %, v =0.3517295092382966 %\n"
     ]
    },
    {
     "name": "stderr",
     "output_type": "stream",
     "text": [
      "\n"
     ]
    }
   ],
   "source": [
    "#Importing library\n",
    "import numpy as np; #For mathematical operations\n",
    "from tqdm import tqdm; # Progress bar\n",
    "\n",
    "def generate_data(n, pi_1, mu_1, mu_2, v): #Generating gaussian random data.\n",
    "    data = np.zeros(n) # Store the random data here\n",
    "    for i in range(n): # loop from 0 to n-1 to generate n random gaussian mixture data.\n",
    "        if np.random.rand() < pi_1: # Binary choice\n",
    "            data[i] = np.random.normal(mu_1, np.sqrt(v)) # Generate the data for first gaussian\n",
    "        else: # if 1-pi_1 generate the second gaussian\n",
    "            data[i] = np.random.normal(mu_2, np.sqrt(v)) # Generate the 2nd gaussian\n",
    "    return data # Return the data generated\n",
    "\n",
    "# Initial guess\n",
    "pi_1 = 0.7\n",
    "mu_1 = 1.0\n",
    "mu_2 = 4.0\n",
    "v = 0.5\n",
    "n=10000;\n",
    "\n",
    "#Generate random data\n",
    "data = generate_data(n, pi_1, mu_1, mu_2, v)\n",
    "\n",
    "pi_1_hat = 0.5; #some random guess\n",
    "mu_1_hat = np.mean(data) #taking mu_1_old close to the mean so that we get the convergence faster.\n",
    "mu_2_hat = np.mean(data)+np.random.rand() #adding some random number from the mean for faster convergence.\n",
    "v_hat = np.var(data) # obtaining the variance of the data again for the faster convergence.\n",
    "\n",
    "for i in tqdm(range(100)): #Looping through 100 steps\n",
    "    # E step\n",
    "    # Calculating the y1_old as z using equation from example 3.7\n",
    "    z = pi_1_hat * np.exp(-0.5 * (data - mu_1_hat)**2 / v_hat) / np.sqrt(2*np.pi*v_hat) \\\n",
    "    / ((1-pi_1_hat) * np.exp(-0.5 * (data - mu_2_hat)**2 / v_hat) / np.sqrt(2*np.pi*v_hat) \\\n",
    "        + pi_1_hat * np.exp(-0.5 * (data - mu_1_hat)**2 / v_hat) / np.sqrt(2*np.pi*v_hat))\n",
    "    # M step\n",
    "    pi_1_hat = np.sum(z) / n # Calculating new p1\n",
    "    mu_1_hat = np.sum(z * data) / np.sum(z) # Calculating new mu_2\n",
    "    mu_2_hat = np.sum((1 - z) * data) / np.sum(1 - z) # Calculating new mu_2\n",
    "    v_hat = np.sum(z * (data - mu_1_hat)**2) / np.sum(z) #Calculating new v\n",
    "\n",
    "print(\"True Parameters: pi_1 = {}, mu_1 = {}, mu_2 = {}, v = {}\".format(pi_1, mu_1, mu_2, v))#Print original\n",
    "print(\"Estimated Parameters: pi_1 = {}, mu_1 = {}, mu_2 = {}, v = {}\".format(pi_1_hat, mu_1_hat, mu_2_hat, v_hat))#Print obtained values\n",
    "print(\"%Error in estimation : pi_1 ={} %, mu_1 = {} %, mu_2 = {} %, v ={} %\".format(np.abs(pi_1-pi_1_hat)*100/pi_1,np.abs(mu_1-mu_1_hat)*100/mu_1,np.abs( mu_2-mu_2_hat)*100/mu_2,np.abs(v-v_hat)*100/v))"
   ]
  },
  {
   "cell_type": "code",
   "execution_count": 3,
   "id": "89dd2380",
   "metadata": {},
   "outputs": [
    {
     "data": {
      "text/plain": [
       "array([0.96302087, 0.04592029, 0.65748938, 0.97779399, 0.41489594,\n",
       "       0.35116969, 0.23629073, 0.44888073, 0.26012716, 0.54543054,\n",
       "       0.9827764 , 0.02945781, 0.06451938, 0.36528926, 0.97751362,\n",
       "       0.80301335, 0.92131893, 0.20435805, 0.56322531, 0.20194406,\n",
       "       0.90533459, 0.47244613, 0.27958007, 0.62811665, 0.151857  ,\n",
       "       0.30483086, 0.89788558, 0.13625412, 0.8221293 , 0.55357815,\n",
       "       0.55923884, 0.2131301 , 0.46129033, 0.95792499, 0.85500533,\n",
       "       0.32203027, 0.18375572, 0.64742483, 0.05741616, 0.78958228,\n",
       "       0.81916948, 0.02997211, 0.08599509, 0.57823371, 0.64189886,\n",
       "       0.27687124, 0.7923104 , 0.80332621, 0.20871039, 0.2416921 ,\n",
       "       0.34051123, 0.03522392, 0.5249886 , 0.46889612, 0.38459808,\n",
       "       0.33943862, 0.72469184, 0.47104832, 0.87935132, 0.46531067,\n",
       "       0.5967415 , 0.25805207, 0.29551403, 0.38676356, 0.08270498,\n",
       "       0.31117048, 0.53093058, 0.59523236, 0.12325987, 0.1382707 ,\n",
       "       0.2318588 , 0.26715672, 0.1325954 , 0.61606829, 0.48304395,\n",
       "       0.26808664, 0.03124042, 0.83361643, 0.34175058, 0.54756306,\n",
       "       0.78032617, 0.68232215, 0.6060764 , 0.70134558, 0.01573996,\n",
       "       0.93088179, 0.8068973 , 0.48428094, 0.56297188, 0.24305391,\n",
       "       0.19891687, 0.26002836, 0.86832162, 0.33482949, 0.87329757,\n",
       "       0.26639937, 0.09947093, 0.34892982, 0.06870206, 0.48559466])"
      ]
     },
     "execution_count": 3,
     "metadata": {},
     "output_type": "execute_result"
    }
   ],
   "source": [
    "np.random.rand(100)"
   ]
  }
 ],
 "metadata": {
  "kernelspec": {
   "display_name": "Python 3",
   "language": "python",
   "name": "python3"
  },
  "language_info": {
   "codemirror_mode": {
    "name": "ipython",
    "version": 3
   },
   "file_extension": ".py",
   "mimetype": "text/x-python",
   "name": "python",
   "nbconvert_exporter": "python",
   "pygments_lexer": "ipython3",
   "version": "3.8.10"
  }
 },
 "nbformat": 4,
 "nbformat_minor": 5
}
