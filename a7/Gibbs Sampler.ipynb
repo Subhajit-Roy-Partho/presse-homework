{
 "cells": [
  {
   "cell_type": "code",
   "execution_count": 4,
   "id": "0435b2ba",
   "metadata": {},
   "outputs": [
    {
     "data": {
      "image/png": "[encoded data removed]",
      "text/plain": [
       "<Figure size 432x288 with 1 Axes>"
      ]
     },
     "metadata": {
      "needs_background": "light"
     },
     "output_type": "display_data"
    }
   ],
   "source": [
    "import numpy as np\n",
    "from scipy.stats import norm, beta\n",
    "import matplotlib.pyplot as plt\n",
    "\n",
    "def gibbs_sampler(x, y, alpha, bt, num_iterations, burn_in):\n",
    "    # Initialize z and p\n",
    "    z = np.mean([x, y])\n",
    "    p = beta.rvs(alpha, bt)\n",
    "\n",
    "    # Initialize arrays to store samples\n",
    "    z_samples = np.zeros(num_iterations)\n",
    "    p_samples = np.zeros(num_iterations)\n",
    "\n",
    "    for i in range(num_iterations):\n",
    "        # Sample z from its conditional distribution\n",
    "        mu_z = (p * np.mean(x)) + ((1 - p) * np.mean(y))\n",
    "        sigma_z = np.sqrt((np.var(x) * np.var(y)) / (np.var(x) + np.var(y)))\n",
    "        z = norm.rvs(mu_z, sigma_z)\n",
    "\n",
    "        # Sample p from its conditional distribution\n",
    "        a = alpha + 0.5\n",
    "        b = bt + 0.5\n",
    "        p = beta.rvs(a, b)\n",
    "\n",
    "        # Store samples\n",
    "        z_samples[i] = z\n",
    "        p_samples[i] = p\n",
    "\n",
    "    # Discard burn-in samples and return posterior samples\n",
    "    return z_samples[burn_in:], p_samples[burn_in:]\n",
    "\n",
    "\n",
    "# Generate some data\n",
    "np.random.seed(42)\n",
    "x = np.random.normal(loc=5, scale=2, size=100)\n",
    "y = np.random.normal(loc=7, scale=1.5, size=100)\n",
    "\n",
    "# Run the Gibbs sampler\n",
    "z_samples, p_samples = gibbs_sampler(x, y, 2, 2, 10000, 1000)\n",
    "\n",
    "# Plot the posterior distribution of z\n",
    "plt.hist(z_samples, bins=30, density=True)\n",
    "plt.title(\"Posterior distribution of z\")\n",
    "plt.xlabel(\"z\")\n",
    "plt.ylabel(\"Density\")\n",
    "plt.show()"
   ]
  },
  {
   "cell_type": "code",
   "execution_count": 5,
   "id": "3011c583",
   "metadata": {
    "scrolled": true
   },
   "outputs": [
    {
     "data": {
      "image/png": "[encoded data removed]",
      "text/plain": [
       "<Figure size 432x288 with 1 Axes>"
      ]
     },
     "metadata": {
      "needs_background": "light"
     },
     "output_type": "display_data"
    }
   ],
   "source": [
    "import numpy as np\n",
    "from scipy.stats import norm\n",
    "import matplotlib.pyplot as plt\n",
    "\n",
    "def gibbs_sampler(x, y, num_iterations, burn_in):\n",
    "    # Initialize z\n",
    "    z = np.mean([x, y])\n",
    "\n",
    "    # Initialize array to store samples\n",
    "    z_samples = np.zeros(num_iterations)\n",
    "\n",
    "    for i in range(num_iterations):\n",
    "        # Sample z from its conditional distribution\n",
    "        mu_z = np.mean([x, y])\n",
    "        sigma_z = np.sqrt(np.var(x) + np.var(y))\n",
    "        z = norm.rvs(mu_z, sigma_z)\n",
    "\n",
    "        # Store sample\n",
    "        z_samples[i] = z\n",
    "\n",
    "    # Discard burn-in samples and return posterior samples\n",
    "    return z_samples[burn_in:]\n",
    "\n",
    "import matplotlib.pyplot as plt\n",
    "\n",
    "# Generate some example data\n",
    "x = np.random.normal(0, 1, size=100)\n",
    "y = np.random.normal(1, 1, size=100)\n",
    "\n",
    "# Run the Gibbs sampler\n",
    "num_iterations = 1000\n",
    "burn_in = 100\n",
    "z_samples = gibbs_sampler(x, y, num_iterations, burn_in)\n",
    "\n",
    "# Plot the posterior distribution of z\n",
    "plt.hist(z_samples, bins=30)\n",
    "plt.xlabel('z')\n",
    "plt.ylabel('Posterior density')\n",
    "plt.show()\n"
   ]
  },
  {
   "cell_type": "markdown",
   "id": "d97fb665",
   "metadata": {},
   "source": [
    "# Example 5.10"
   ]
  },
  {
   "cell_type": "code",
   "execution_count": 16,
   "id": "703ea56a",
   "metadata": {},
   "outputs": [
    {
     "ename": "ValueError",
     "evalue": "operands could not be broadcast together with shapes (50,) (100,) ",
     "output_type": "error",
     "traceback": [
      "\u001b[0;31m---------------------------------------------------------------------------\u001b[0m",
      "\u001b[0;31mValueError\u001b[0m                                Traceback (most recent call last)",
      "\u001b[0;32m<ipython-input-16-2e7ec6d5e524>\u001b[0m in \u001b[0;36m<module>\u001b[0;34m\u001b[0m\n\u001b[1;32m     47\u001b[0m \u001b[0;32mfor\u001b[0m \u001b[0mi\u001b[0m \u001b[0;32min\u001b[0m \u001b[0mrange\u001b[0m\u001b[0;34m(\u001b[0m\u001b[0mnum_iterations\u001b[0m\u001b[0;34m)\u001b[0m\u001b[0;34m:\u001b[0m\u001b[0;34m\u001b[0m\u001b[0;34m\u001b[0m\u001b[0m\n\u001b[1;32m     48\u001b[0m     \u001b[0mtau\u001b[0m \u001b[0;34m=\u001b[0m \u001b[0msample_tau\u001b[0m\u001b[0;34m(\u001b[0m\u001b[0mmu1\u001b[0m\u001b[0;34m,\u001b[0m \u001b[0mmu2\u001b[0m\u001b[0;34m,\u001b[0m \u001b[0ms\u001b[0m\u001b[0;34m,\u001b[0m \u001b[0mnp\u001b[0m\u001b[0;34m.\u001b[0m\u001b[0mconcatenate\u001b[0m\u001b[0;34m(\u001b[0m\u001b[0;34m(\u001b[0m\u001b[0mw1\u001b[0m\u001b[0;34m,\u001b[0m \u001b[0mw2\u001b[0m\u001b[0;34m)\u001b[0m\u001b[0;34m)\u001b[0m\u001b[0;34m)\u001b[0m\u001b[0;34m\u001b[0m\u001b[0;34m\u001b[0m\u001b[0m\n\u001b[0;32m---> 49\u001b[0;31m     \u001b[0mmu1\u001b[0m \u001b[0;34m=\u001b[0m \u001b[0msample_mu1\u001b[0m\u001b[0;34m(\u001b[0m\u001b[0mtau\u001b[0m\u001b[0;34m,\u001b[0m \u001b[0mmu2\u001b[0m\u001b[0;34m,\u001b[0m \u001b[0ms\u001b[0m\u001b[0;34m,\u001b[0m \u001b[0mw1\u001b[0m\u001b[0;34m)\u001b[0m\u001b[0;34m\u001b[0m\u001b[0;34m\u001b[0m\u001b[0m\n\u001b[0m\u001b[1;32m     50\u001b[0m     \u001b[0mmu2\u001b[0m \u001b[0;34m=\u001b[0m \u001b[0msample_mu2\u001b[0m\u001b[0;34m(\u001b[0m\u001b[0mtau\u001b[0m\u001b[0;34m,\u001b[0m \u001b[0mmu1\u001b[0m\u001b[0;34m,\u001b[0m \u001b[0ms\u001b[0m\u001b[0;34m,\u001b[0m \u001b[0mw2\u001b[0m\u001b[0;34m)\u001b[0m\u001b[0;34m\u001b[0m\u001b[0;34m\u001b[0m\u001b[0m\n\u001b[1;32m     51\u001b[0m     \u001b[0ms\u001b[0m \u001b[0;34m=\u001b[0m \u001b[0msample_s\u001b[0m\u001b[0;34m(\u001b[0m\u001b[0mtau\u001b[0m\u001b[0;34m,\u001b[0m \u001b[0mmu1\u001b[0m\u001b[0;34m,\u001b[0m \u001b[0mmu2\u001b[0m\u001b[0;34m,\u001b[0m \u001b[0mnp\u001b[0m\u001b[0;34m.\u001b[0m\u001b[0mconcatenate\u001b[0m\u001b[0;34m(\u001b[0m\u001b[0;34m(\u001b[0m\u001b[0mw1\u001b[0m\u001b[0;34m,\u001b[0m \u001b[0mw2\u001b[0m\u001b[0;34m)\u001b[0m\u001b[0;34m)\u001b[0m\u001b[0;34m)\u001b[0m\u001b[0;34m\u001b[0m\u001b[0;34m\u001b[0m\u001b[0m\n",
      "\u001b[0;32m<ipython-input-16-2e7ec6d5e524>\u001b[0m in \u001b[0;36msample_mu1\u001b[0;34m(tau, mu2, s, w)\u001b[0m\n\u001b[1;32m     26\u001b[0m \u001b[0;32mdef\u001b[0m \u001b[0msample_mu1\u001b[0m\u001b[0;34m(\u001b[0m\u001b[0mtau\u001b[0m\u001b[0;34m,\u001b[0m \u001b[0mmu2\u001b[0m\u001b[0;34m,\u001b[0m \u001b[0ms\u001b[0m\u001b[0;34m,\u001b[0m \u001b[0mw\u001b[0m\u001b[0;34m)\u001b[0m\u001b[0;34m:\u001b[0m\u001b[0;34m\u001b[0m\u001b[0;34m\u001b[0m\u001b[0m\n\u001b[1;32m     27\u001b[0m     \u001b[0mpsi_new\u001b[0m \u001b[0;34m=\u001b[0m \u001b[0mpsi\u001b[0m \u001b[0;34m+\u001b[0m \u001b[0mnp\u001b[0m\u001b[0;34m.\u001b[0m\u001b[0msum\u001b[0m\u001b[0;34m(\u001b[0m\u001b[0ms\u001b[0m\u001b[0;34m)\u001b[0m\u001b[0;34m\u001b[0m\u001b[0;34m\u001b[0m\u001b[0m\n\u001b[0;32m---> 28\u001b[0;31m     \u001b[0mxi_new\u001b[0m \u001b[0;34m=\u001b[0m \u001b[0;34m(\u001b[0m\u001b[0mpsi\u001b[0m \u001b[0;34m*\u001b[0m \u001b[0mxi\u001b[0m \u001b[0;34m+\u001b[0m \u001b[0mnp\u001b[0m\u001b[0;34m.\u001b[0m\u001b[0msum\u001b[0m\u001b[0;34m(\u001b[0m\u001b[0mw\u001b[0m \u001b[0;34m*\u001b[0m \u001b[0ms\u001b[0m\u001b[0;34m)\u001b[0m\u001b[0;34m)\u001b[0m \u001b[0;34m/\u001b[0m \u001b[0mpsi_new\u001b[0m\u001b[0;34m\u001b[0m\u001b[0;34m\u001b[0m\u001b[0m\n\u001b[0m\u001b[1;32m     29\u001b[0m     \u001b[0;32mreturn\u001b[0m \u001b[0mnorm\u001b[0m\u001b[0;34m.\u001b[0m\u001b[0mrvs\u001b[0m\u001b[0;34m(\u001b[0m\u001b[0mloc\u001b[0m\u001b[0;34m=\u001b[0m\u001b[0mxi_new\u001b[0m\u001b[0;34m,\u001b[0m \u001b[0mscale\u001b[0m\u001b[0;34m=\u001b[0m\u001b[0;36m1\u001b[0m\u001b[0;34m/\u001b[0m\u001b[0mnp\u001b[0m\u001b[0;34m.\u001b[0m\u001b[0msqrt\u001b[0m\u001b[0;34m(\u001b[0m\u001b[0mpsi_new\u001b[0m \u001b[0;34m*\u001b[0m \u001b[0mtau\u001b[0m\u001b[0;34m)\u001b[0m\u001b[0;34m)\u001b[0m\u001b[0;34m\u001b[0m\u001b[0;34m\u001b[0m\u001b[0m\n\u001b[1;32m     30\u001b[0m \u001b[0;34m\u001b[0m\u001b[0m\n",
      "\u001b[0;31mValueError\u001b[0m: operands could not be broadcast together with shapes (50,) (100,) "
     ]
    }
   ],
   "source": [
    "import numpy as np\n",
    "from scipy.stats import norm, gamma, bernoulli\n",
    "\n",
    "# Set up prior hyperparameters\n",
    "alpha = 1\n",
    "beta = 1\n",
    "xi = 0\n",
    "psi = 1\n",
    "N=100\n",
    "w1=np.random.normal(-5, 1, size=int(N/2))\n",
    "w2=np.random.normal(5, 1, size=int(N/2))\n",
    "\n",
    "\n",
    "# Set up initial values\n",
    "tau = 1 / np.var(np.concatenate((w1, w2)))\n",
    "mu1 = np.mean(w1)\n",
    "mu2 = np.mean(w2)\n",
    "s = np.zeros(N)\n",
    "\n",
    "# Define the conditional distributions\n",
    "def sample_tau(mu1, mu2, s, w):\n",
    "    alpha_new = alpha + N / 2\n",
    "    beta_new = beta + np.sum((w - mu1 * s - mu2 * (1 - s)) ** 2) / 2\n",
    "    return gamma.rvs(alpha_new, scale=1/beta_new)\n",
    "\n",
    "def sample_mu1(tau, mu2, s, w):\n",
    "    psi_new = psi + np.sum(s)\n",
    "    xi_new = (psi * xi + np.sum(w * s)) / psi_new\n",
    "    return norm.rvs(loc=xi_new, scale=1/np.sqrt(psi_new * tau))\n",
    "\n",
    "def sample_mu2(tau, mu1, s, w):\n",
    "    psi_new = psi + np.sum(1 - s)\n",
    "    xi_new = (psi * xi + np.sum(w * (1 - s))) / psi_new\n",
    "    return norm.rvs(loc=xi_new, scale=1/np.sqrt(psi_new * tau))\n",
    "\n",
    "def sample_s(tau, mu1, mu2, w):\n",
    "    p = np.array([norm.pdf(w, loc=mu1, scale=1/np.sqrt(tau)), \n",
    "                  norm.pdf(w, loc=mu2, scale=1/np.sqrt(tau))])\n",
    "    p *= np.array([1 - omega, omega]).reshape(-1, 1)\n",
    "    p /= np.sum(p, axis=0)\n",
    "    return bernoulli.rvs(p[1])\n",
    "\n",
    "# Run the Gibbs sampler\n",
    "num_iterations = 1000\n",
    "burn_in = 100\n",
    "samples = np.zeros((num_iterations, 4 + N))\n",
    "for i in range(num_iterations):\n",
    "    tau = sample_tau(mu1, mu2, s, np.concatenate((w1, w2)))\n",
    "    mu1 = sample_mu1(tau, mu2, s, w1)\n",
    "    mu2 = sample_mu2(tau, mu1, s, w2)\n",
    "    s = sample_s(tau, mu1, mu2, np.concatenate((w1, w2)))\n",
    "    samples[i] = np.concatenate((tau.reshape(1,), mu1.reshape(1,), mu2.reshape(1,), s))\n",
    "samples = samples[burn_in:]\n",
    "\n",
    "# Plot the posterior distributions\n",
    "import matplotlib.pyplot as plt\n",
    "plt.figure(figsize=(10, 6))\n",
    "\n",
    "# Plot the posterior distribution of tau\n",
    "plt.subplot(2, 2, 1)\n",
    "plt.hist(samples[:, 0], bins=30)\n",
    "plt.xlabel('tau')\n",
    "plt.ylabel('Posterior density')\n",
    "\n",
    "# Plot the posterior distribution of mu1\n",
    "plt.subplot(2, 2, 2)\n",
    "plt.hist(samples[:, 1], bins=30)\n",
    "plt.xlabel('mu1')\n",
    "plt.ylabel('Posterior density')\n",
    "\n",
    "# Plot the posterior distribution of mu2\n",
    "plt.subplot(2, 2, 3)\n",
    "plt.hist(samples[:, 2], bins=30)\n",
    "plt.xlabel('mu2')\n",
    "plt.ylabel('Posterior density')\n",
    "\n",
    "# Plot the posterior distribution of s\n",
    "# plt.subplot(2, 2, 4)\n",
    "# plt.hist(samples[:, 3:], bins=30, label=['s{}'.format(i+1) for i in range(N\n"
   ]
  },
  {
   "cell_type": "code",
   "execution_count": 7,
   "id": "36c25fcc",
   "metadata": {},
   "outputs": [
    {
     "ename": "NameError",
     "evalue": "name 'w1' is not defined",
     "output_type": "error",
     "traceback": [
      "\u001b[0;31m---------------------------------------------------------------------------\u001b[0m",
      "\u001b[0;31mNameError\u001b[0m                                 Traceback (most recent call last)",
      "\u001b[0;32m<ipython-input-7-c5e1f21eabfc>\u001b[0m in \u001b[0;36m<module>\u001b[0;34m\u001b[0m\n\u001b[1;32m      9\u001b[0m \u001b[0;34m\u001b[0m\u001b[0m\n\u001b[1;32m     10\u001b[0m \u001b[0;31m# Set up initial values for parameters and indicators\u001b[0m\u001b[0;34m\u001b[0m\u001b[0;34m\u001b[0m\u001b[0;34m\u001b[0m\u001b[0m\n\u001b[0;32m---> 11\u001b[0;31m \u001b[0mtau\u001b[0m \u001b[0;34m=\u001b[0m \u001b[0;36m1\u001b[0m \u001b[0;34m/\u001b[0m \u001b[0mnp\u001b[0m\u001b[0;34m.\u001b[0m\u001b[0mvar\u001b[0m\u001b[0;34m(\u001b[0m\u001b[0mnp\u001b[0m\u001b[0;34m.\u001b[0m\u001b[0mconcatenate\u001b[0m\u001b[0;34m(\u001b[0m\u001b[0;34m[\u001b[0m\u001b[0mw1\u001b[0m\u001b[0;34m,\u001b[0m \u001b[0mw2\u001b[0m\u001b[0;34m]\u001b[0m\u001b[0;34m)\u001b[0m\u001b[0;34m)\u001b[0m\u001b[0;34m\u001b[0m\u001b[0;34m\u001b[0m\u001b[0m\n\u001b[0m\u001b[1;32m     12\u001b[0m \u001b[0mmu1\u001b[0m \u001b[0;34m=\u001b[0m \u001b[0mnp\u001b[0m\u001b[0;34m.\u001b[0m\u001b[0mmean\u001b[0m\u001b[0;34m(\u001b[0m\u001b[0mw1\u001b[0m\u001b[0;34m)\u001b[0m\u001b[0;34m\u001b[0m\u001b[0;34m\u001b[0m\u001b[0m\n\u001b[1;32m     13\u001b[0m \u001b[0mmu2\u001b[0m \u001b[0;34m=\u001b[0m \u001b[0mnp\u001b[0m\u001b[0;34m.\u001b[0m\u001b[0mmean\u001b[0m\u001b[0;34m(\u001b[0m\u001b[0mw2\u001b[0m\u001b[0;34m)\u001b[0m\u001b[0;34m\u001b[0m\u001b[0;34m\u001b[0m\u001b[0m\n",
      "\u001b[0;31mNameError\u001b[0m: name 'w1' is not defined"
     ]
    }
   ],
   "source": [
    "import numpy as np\n",
    "import scipy.stats as stats\n",
    "\n",
    "# Set up prior parameters\n",
    "alpha = 1\n",
    "beta = 1\n",
    "xi = 0\n",
    "psi = 1\n",
    "\n",
    "# Set up initial values for parameters and indicators\n",
    "tau = 1 / np.var(np.concatenate([w1, w2]))\n",
    "mu1 = np.mean(w1)\n",
    "mu2 = np.mean(w2)\n",
    "s = np.zeros(N, dtype=int)\n",
    "\n",
    "# Define conditional posterior distributions for each parameter\n",
    "def sample_tau(mu1, mu2, s, w1, w2):\n",
    "    alpha_new = alpha + N/2\n",
    "    beta_new = beta + 0.5 * (np.sum((w1 - mu1*s)**2) + np.sum((w2 - mu2*(1-s))**2))\n",
    "    return stats.gamma.rvs(alpha_new, scale=1/beta_new)\n",
    "\n",
    "def sample_mu1(tau, mu2, w1, s):\n",
    "    psi_new = psi + np.sum(s)\n",
    "    xi_new = (psi*xi + np.sum(w1*s)) / (psi + np.sum(s))\n",
    "    return stats.norm.rvs(loc=xi_new, scale=1/np.sqrt(psi_new*tau))\n",
    "\n",
    "def sample_mu2(tau, mu1, w2, s):\n",
    "    psi_new = psi + np.sum(1-s)\n",
    "    xi_new = (psi*xi + np.sum(w2*(1-s))) / (psi + np.sum(1-s))\n",
    "    return stats.norm.rvs(loc=xi_new, scale=1/np.sqrt(psi_new*tau))\n",
    "\n",
    "def sample_s(tau, mu1, mu2, w1, w2):\n",
    "    log_odds = np.zeros(2)\n",
    "    log_odds[0] = np.sum(stats.norm.logpdf(w1, loc=mu1, scale=np.sqrt(1/tau)))\n",
    "    log_odds[1] = np.sum(stats.norm.logpdf(w2, loc=mu2, scale=np.sqrt(1/tau)))\n",
    "    log_odds[1] += np.log(1 - omega)\n",
    "    log_odds -= np.max(log_odds) # subtract maximum to avoid overflow\n",
    "    odds = np.exp(log_odds)\n",
    "    probs = odds / np.sum(odds)\n",
    "    return stats.binom.rvs(n=1, p=probs[1])\n",
    "\n",
    "# Run the Gibbs sampler\n",
    "num_iterations = 1000\n",
    "burn_in = 100\n",
    "samples = np.zeros((num_iterations, 4 + N), dtype=np.float64)\n",
    "\n",
    "for i in range(num_iterations):\n",
    "    tau = sample_tau(mu1, mu2, s, w1, w2)\n",
    "    mu1 = sample_mu1(tau, mu2, w1, s)\n",
    "    mu2 = sample_mu2(tau, mu1, w2, s)\n",
    "    for j in range(N):\n",
    "        s[j] = sample_s(tau, mu1, mu2, w1[j], w2[j])\n",
    "    samples[i, :] = [tau, mu1, mu2, *s]\n",
    "\n",
    "samples = samples[burn_in:, :] # discard burn-in samples\n",
    "\n",
    "# Plot the posterior distributions of the parameters\n",
    "import matplotlib.pyplot as plt\n",
    "\n",
    "plt.figure(figsize=(10, 8))\n",
    "plt.subplot(2, 2, 1)\n",
    "plt.hist(samples[:, 0], bins=30)\n",
    "plt.xlabel(r'$\\tau$')\n",
    "plt.ylabel('Posterior density')\n",
    "plt.subplot(2, 2, 2)\n",
    "plt.hist(samples[:, 1], bins=30)\n",
    "plt.xlabel(r'$\\mu_1$')\n",
    "# plt.ylabel('Post"
   ]
  },
  {
   "cell_type": "code",
   "execution_count": 17,
   "id": "b699afae",
   "metadata": {},
   "outputs": [
    {
     "data": {
      "text/plain": [
       "0.8917669460297308"
      ]
     },
     "execution_count": 17,
     "metadata": {},
     "output_type": "execute_result"
    }
   ],
   "source": [
    "np.random.beta(alpha, beta)"
   ]
  }
 ],
 "metadata": {
  "kernelspec": {
   "display_name": "Python 3",
   "language": "python",
   "name": "python3"
  },
  "language_info": {
   "codemirror_mode": {
    "name": "ipython",
    "version": 3
   },
   "file_extension": ".py",
   "mimetype": "text/x-python",
   "name": "python",
   "nbconvert_exporter": "python",
   "pygments_lexer": "ipython3",
   "version": "3.8.10"
  }
 },
 "nbformat": 4,
 "nbformat_minor": 5
}
